{
 "cells": [
  {
   "cell_type": "markdown",
   "metadata": {},
   "source": [
    "<h1>Explore Data</h1>"
   ]
  },
  {
   "cell_type": "code",
   "execution_count": 97,
   "metadata": {
    "collapsed": false
   },
   "outputs": [],
   "source": [
    "import pandas as pd\n",
    "import numpy as np\n",
    "\n",
    "icu_stays = pd.read_csv('MIMIC_Data/ICUSTAYS.csv')\n",
    "admissions = pd.read_csv('MIMIC_Data/ADMISSIONS.csv')\n",
    "patients = pd.read_csv('MIMIC_Data/PATIENTS.csv')"
   ]
  },
  {
   "cell_type": "code",
   "execution_count": 124,
   "metadata": {
    "collapsed": false
   },
   "outputs": [
    {
     "name": "stdout",
     "output_type": "stream",
     "text": [
      "ICU columns\n",
      "Index(['ROW_ID', 'SUBJECT_ID', 'HADM_ID', 'ICUSTAY_ID', 'DBSOURCE',\n",
      "       'FIRST_CAREUNIT', 'LAST_CAREUNIT', 'FIRST_WARDID', 'LAST_WARDID',\n",
      "       'INTIME', 'OUTTIME', 'LOS'],\n",
      "      dtype='object')\n",
      "\n",
      "Admissions columns\n",
      "Index(['ROW_ID', 'SUBJECT_ID', 'HADM_ID', 'ADMITTIME', 'DISCHTIME',\n",
      "       'DEATHTIME', 'ADMISSION_TYPE', 'ADMISSION_LOCATION',\n",
      "       'DISCHARGE_LOCATION', 'INSURANCE', 'LANGUAGE', 'RELIGION',\n",
      "       'MARITAL_STATUS', 'ETHNICITY', 'EDREGTIME', 'EDOUTTIME', 'DIAGNOSIS',\n",
      "       'HOSPITAL_EXPIRE_FLAG', 'HAS_CHARTEVENTS_DATA'],\n",
      "      dtype='object')\n",
      "\n",
      "Patients columns\n",
      "Index(['ROW_ID', 'SUBJECT_ID', 'GENDER', 'DOB', 'DOD', 'DOD_HOSP', 'DOD_SSN',\n",
      "       'EXPIRE_FLAG', 'AGE'],\n",
      "      dtype='object')\n"
     ]
    }
   ],
   "source": [
    "print('ICU columns')\n",
    "print(icu_stays.columns)\n",
    "\n",
    "print('\\nAdmissions columns')\n",
    "print(admissions.columns)\n",
    "\n",
    "print('\\nPatients columns')\n",
    "print(patients.columns)"
   ]
  },
  {
   "cell_type": "markdown",
   "metadata": {},
   "source": [
    "<h1>Problem 1</h1>"
   ]
  },
  {
   "cell_type": "code",
   "execution_count": 99,
   "metadata": {
    "collapsed": false
   },
   "outputs": [
    {
     "data": {
      "text/html": [
       "<div>\n",
       "<table border=\"1\" class=\"dataframe\">\n",
       "  <thead>\n",
       "    <tr style=\"text-align: right;\">\n",
       "      <th></th>\n",
       "      <th>HADM_ID</th>\n",
       "      <th>ICUSTAY_ID</th>\n",
       "      <th>INTIME</th>\n",
       "      <th>OUTTIME</th>\n",
       "    </tr>\n",
       "  </thead>\n",
       "  <tbody>\n",
       "    <tr>\n",
       "      <th>0</th>\n",
       "      <td>110404</td>\n",
       "      <td>280836</td>\n",
       "      <td>2198-02-14 23:27:38</td>\n",
       "      <td>2198-02-18 05:26:11</td>\n",
       "    </tr>\n",
       "    <tr>\n",
       "      <th>1</th>\n",
       "      <td>106296</td>\n",
       "      <td>206613</td>\n",
       "      <td>2170-11-05 11:05:29</td>\n",
       "      <td>2170-11-08 17:46:57</td>\n",
       "    </tr>\n",
       "    <tr>\n",
       "      <th>2</th>\n",
       "      <td>188028</td>\n",
       "      <td>220345</td>\n",
       "      <td>2128-06-24 15:05:20</td>\n",
       "      <td>2128-06-27 12:32:29</td>\n",
       "    </tr>\n",
       "    <tr>\n",
       "      <th>3</th>\n",
       "      <td>173727</td>\n",
       "      <td>249196</td>\n",
       "      <td>2120-08-07 23:12:42</td>\n",
       "      <td>2120-08-10 00:39:04</td>\n",
       "    </tr>\n",
       "    <tr>\n",
       "      <th>4</th>\n",
       "      <td>164716</td>\n",
       "      <td>210407</td>\n",
       "      <td>2186-12-25 21:08:04</td>\n",
       "      <td>2186-12-27 12:01:13</td>\n",
       "    </tr>\n",
       "  </tbody>\n",
       "</table>\n",
       "</div>"
      ],
      "text/plain": [
       "   HADM_ID  ICUSTAY_ID               INTIME              OUTTIME\n",
       "0   110404      280836  2198-02-14 23:27:38  2198-02-18 05:26:11\n",
       "1   106296      206613  2170-11-05 11:05:29  2170-11-08 17:46:57\n",
       "2   188028      220345  2128-06-24 15:05:20  2128-06-27 12:32:29\n",
       "3   173727      249196  2120-08-07 23:12:42  2120-08-10 00:39:04\n",
       "4   164716      210407  2186-12-25 21:08:04  2186-12-27 12:01:13"
      ]
     },
     "execution_count": 99,
     "metadata": {},
     "output_type": "execute_result"
    }
   ],
   "source": [
    "# First start with retrieving ‘subject_id’, ‘hadm_id’, ‘icustay_id’, ‘intime’, and ‘outtime’ from the ‘icustays’ table.\n",
    "\n",
    "icu_data = icu_stays[['HADM_ID','ICUSTAY_ID', 'INTIME', 'OUTTIME']]\n",
    "icu_data.head()"
   ]
  },
  {
   "cell_type": "code",
   "execution_count": 100,
   "metadata": {
    "collapsed": false
   },
   "outputs": [
    {
     "data": {
      "text/html": [
       "<div>\n",
       "<table border=\"1\" class=\"dataframe\">\n",
       "  <thead>\n",
       "    <tr style=\"text-align: right;\">\n",
       "      <th></th>\n",
       "      <th>ROW_ID</th>\n",
       "      <th>SUBJECT_ID</th>\n",
       "      <th>GENDER</th>\n",
       "      <th>DOB</th>\n",
       "      <th>DOD</th>\n",
       "      <th>DOD_HOSP</th>\n",
       "      <th>DOD_SSN</th>\n",
       "      <th>EXPIRE_FLAG</th>\n",
       "    </tr>\n",
       "  </thead>\n",
       "  <tbody>\n",
       "    <tr>\n",
       "      <th>0</th>\n",
       "      <td>234</td>\n",
       "      <td>249</td>\n",
       "      <td>F</td>\n",
       "      <td>2075-03-13 00:00:00</td>\n",
       "      <td>NaN</td>\n",
       "      <td>NaN</td>\n",
       "      <td>NaN</td>\n",
       "      <td>0</td>\n",
       "    </tr>\n",
       "    <tr>\n",
       "      <th>1</th>\n",
       "      <td>235</td>\n",
       "      <td>250</td>\n",
       "      <td>F</td>\n",
       "      <td>2164-12-27 00:00:00</td>\n",
       "      <td>2188-11-22 00:00:00</td>\n",
       "      <td>2188-11-22 00:00:00</td>\n",
       "      <td>NaN</td>\n",
       "      <td>1</td>\n",
       "    </tr>\n",
       "    <tr>\n",
       "      <th>2</th>\n",
       "      <td>236</td>\n",
       "      <td>251</td>\n",
       "      <td>M</td>\n",
       "      <td>2090-03-15 00:00:00</td>\n",
       "      <td>NaN</td>\n",
       "      <td>NaN</td>\n",
       "      <td>NaN</td>\n",
       "      <td>0</td>\n",
       "    </tr>\n",
       "    <tr>\n",
       "      <th>3</th>\n",
       "      <td>237</td>\n",
       "      <td>252</td>\n",
       "      <td>M</td>\n",
       "      <td>2078-03-06 00:00:00</td>\n",
       "      <td>NaN</td>\n",
       "      <td>NaN</td>\n",
       "      <td>NaN</td>\n",
       "      <td>0</td>\n",
       "    </tr>\n",
       "    <tr>\n",
       "      <th>4</th>\n",
       "      <td>238</td>\n",
       "      <td>253</td>\n",
       "      <td>F</td>\n",
       "      <td>2089-11-26 00:00:00</td>\n",
       "      <td>NaN</td>\n",
       "      <td>NaN</td>\n",
       "      <td>NaN</td>\n",
       "      <td>0</td>\n",
       "    </tr>\n",
       "  </tbody>\n",
       "</table>\n",
       "</div>"
      ],
      "text/plain": [
       "   ROW_ID  SUBJECT_ID GENDER                  DOB                  DOD  \\\n",
       "0     234         249      F  2075-03-13 00:00:00                  NaN   \n",
       "1     235         250      F  2164-12-27 00:00:00  2188-11-22 00:00:00   \n",
       "2     236         251      M  2090-03-15 00:00:00                  NaN   \n",
       "3     237         252      M  2078-03-06 00:00:00                  NaN   \n",
       "4     238         253      F  2089-11-26 00:00:00                  NaN   \n",
       "\n",
       "              DOD_HOSP DOD_SSN  EXPIRE_FLAG  \n",
       "0                  NaN     NaN            0  \n",
       "1  2188-11-22 00:00:00     NaN            1  \n",
       "2                  NaN     NaN            0  \n",
       "3                  NaN     NaN            0  \n",
       "4                  NaN     NaN            0  "
      ]
     },
     "execution_count": 100,
     "metadata": {},
     "output_type": "execute_result"
    }
   ],
   "source": [
    "# Using the patients table retrieve the calculated age of patients.\n",
    "\n",
    "patients.head()"
   ]
  },
  {
   "cell_type": "code",
   "execution_count": 101,
   "metadata": {
    "collapsed": false
   },
   "outputs": [
    {
     "data": {
      "text/html": [
       "<div>\n",
       "<table border=\"1\" class=\"dataframe\">\n",
       "  <thead>\n",
       "    <tr style=\"text-align: right;\">\n",
       "      <th></th>\n",
       "      <th>ROW_ID</th>\n",
       "      <th>SUBJECT_ID</th>\n",
       "      <th>EXPIRE_FLAG</th>\n",
       "    </tr>\n",
       "  </thead>\n",
       "  <tbody>\n",
       "    <tr>\n",
       "      <th>count</th>\n",
       "      <td>46520.000000</td>\n",
       "      <td>46520.000000</td>\n",
       "      <td>46520.000000</td>\n",
       "    </tr>\n",
       "    <tr>\n",
       "      <th>mean</th>\n",
       "      <td>23260.500000</td>\n",
       "      <td>34425.772872</td>\n",
       "      <td>0.338758</td>\n",
       "    </tr>\n",
       "    <tr>\n",
       "      <th>std</th>\n",
       "      <td>13429.311598</td>\n",
       "      <td>28330.400343</td>\n",
       "      <td>0.473292</td>\n",
       "    </tr>\n",
       "    <tr>\n",
       "      <th>min</th>\n",
       "      <td>1.000000</td>\n",
       "      <td>2.000000</td>\n",
       "      <td>0.000000</td>\n",
       "    </tr>\n",
       "    <tr>\n",
       "      <th>25%</th>\n",
       "      <td>11630.750000</td>\n",
       "      <td>12286.750000</td>\n",
       "      <td>0.000000</td>\n",
       "    </tr>\n",
       "    <tr>\n",
       "      <th>50%</th>\n",
       "      <td>23260.500000</td>\n",
       "      <td>24650.500000</td>\n",
       "      <td>0.000000</td>\n",
       "    </tr>\n",
       "    <tr>\n",
       "      <th>75%</th>\n",
       "      <td>34890.250000</td>\n",
       "      <td>55477.500000</td>\n",
       "      <td>1.000000</td>\n",
       "    </tr>\n",
       "    <tr>\n",
       "      <th>max</th>\n",
       "      <td>46520.000000</td>\n",
       "      <td>99999.000000</td>\n",
       "      <td>1.000000</td>\n",
       "    </tr>\n",
       "  </tbody>\n",
       "</table>\n",
       "</div>"
      ],
      "text/plain": [
       "             ROW_ID    SUBJECT_ID   EXPIRE_FLAG\n",
       "count  46520.000000  46520.000000  46520.000000\n",
       "mean   23260.500000  34425.772872      0.338758\n",
       "std    13429.311598  28330.400343      0.473292\n",
       "min        1.000000      2.000000      0.000000\n",
       "25%    11630.750000  12286.750000      0.000000\n",
       "50%    23260.500000  24650.500000      0.000000\n",
       "75%    34890.250000  55477.500000      1.000000\n",
       "max    46520.000000  99999.000000      1.000000"
      ]
     },
     "execution_count": 101,
     "metadata": {},
     "output_type": "execute_result"
    }
   ],
   "source": [
    "patients.describe()"
   ]
  },
  {
   "cell_type": "code",
   "execution_count": 102,
   "metadata": {
    "collapsed": false
   },
   "outputs": [
    {
     "name": "stdout",
     "output_type": "stream",
     "text": [
      "There are 372160 patients\n",
      "\n",
      "DOD percent null 0.082655\n",
      "DOD_hosp percent null 0.098200\n",
      "DOD_ssn percent null 0.089053\n"
     ]
    }
   ],
   "source": [
    "# There are null values in the DOB and DOD_HOSP and DOD_SSN columns, how many null values are there?\n",
    "DOD, DOD_hosp, DOD_ssn = patients.isnull().sum()[4], patients.isnull().sum()[5], patients.isnull().sum()[6]\n",
    "num_rows = patients.size\n",
    "print(\"There are %d patients\\n\" %(num_rows))\n",
    "\n",
    "# What percentage of the columns are null?\n",
    "print('DOD percent null %f' %(DOD / num_rows))\n",
    "print('DOD_hosp percent null %f' %(DOD_hosp / num_rows))\n",
    "print('DOD_ssn percent null %f' %(DOD_ssn / num_rows))"
   ]
  },
  {
   "cell_type": "code",
   "execution_count": 103,
   "metadata": {
    "collapsed": false
   },
   "outputs": [
    {
     "data": {
      "image/png": "[encoded data removed]",
      "text/plain": [
       "<matplotlib.figure.Figure at 0x1129ceeb8>"
      ]
     },
     "metadata": {},
     "output_type": "display_data"
    },
    {
     "name": "stdout",
     "output_type": "stream",
     "text": [
      "minAge is 1800\n",
      "maxAge is 2098\n",
      "Index(['ROW_ID', 'SUBJECT_ID', 'GENDER', 'DOB', 'DOD', 'DOD_HOSP', 'DOD_SSN',\n",
      "       'EXPIRE_FLAG', 'AGE'],\n",
      "      dtype='object')\n"
     ]
    }
   ],
   "source": [
    "import matplotlib.pyplot as plt\n",
    "\n",
    "# Separate neonates from adult patients.\n",
    "# Compute patient age based on current date?\n",
    "# The minimum year is 1800\n",
    "\n",
    "minAge = 100000\n",
    "maxAge = 0\n",
    "ages = []\n",
    "for dob in patients['DOB']:\n",
    "    year = int(dob.split()[0].split('-')[0])\n",
    "    minAge = min(minAge, year)\n",
    "    maxAge = max(minAge, year)\n",
    "    ages.append(year - 1800)\n",
    "  \n",
    "# Display a histogram of the distribution of ages\n",
    "plt.hist(ages)\n",
    "plt.show()\n",
    "\n",
    "patients['AGE'] = pd.Series(ages, index=patients.index)\n",
    "print('minAge is %d' %(minAge))\n",
    "print('maxAge is %d' %(maxAge))\n",
    "print(patients.columns)"
   ]
  },
  {
   "cell_type": "markdown",
   "metadata": {},
   "source": [
    "<h1>Problem 2</h1>"
   ]
  },
  {
   "cell_type": "code",
   "execution_count": 104,
   "metadata": {
    "collapsed": false
   },
   "outputs": [],
   "source": [
    "# Separate neonates from adult patients.\n",
    "# There is a clear division of patients younger than 150 and patients older than 150\n",
    "\n",
    "neonates = patients.loc[patients['AGE'] < 150]\n",
    "adults = patients.loc[patients['AGE'] >= 150]\n"
   ]
  },
  {
   "cell_type": "markdown",
   "metadata": {},
   "source": [
    "<h1>Problem 3</h1>"
   ]
  },
  {
   "cell_type": "code",
   "execution_count": 105,
   "metadata": {
    "collapsed": false
   },
   "outputs": [
    {
     "name": "stdout",
     "output_type": "stream",
     "text": [
      "   ROW_ID  SUBJECT_ID  HADM_ID            ADMITTIME            DISCHTIME  \\\n",
      "0      21          22   165315  2196-04-09 12:26:00  2196-04-10 15:54:00   \n",
      "1      22          23   152223  2153-09-03 07:15:00  2153-09-08 19:10:00   \n",
      "2      23          23   124321  2157-10-18 19:34:00  2157-10-25 14:00:00   \n",
      "3      24          24   161859  2139-06-06 16:14:00  2139-06-09 12:48:00   \n",
      "4      25          25   129635  2160-11-02 02:06:00  2160-11-05 14:55:00   \n",
      "\n",
      "  DEATHTIME ADMISSION_TYPE         ADMISSION_LOCATION  \\\n",
      "0       NaN      EMERGENCY       EMERGENCY ROOM ADMIT   \n",
      "1       NaN       ELECTIVE  PHYS REFERRAL/NORMAL DELI   \n",
      "2       NaN      EMERGENCY  TRANSFER FROM HOSP/EXTRAM   \n",
      "3       NaN      EMERGENCY  TRANSFER FROM HOSP/EXTRAM   \n",
      "4       NaN      EMERGENCY       EMERGENCY ROOM ADMIT   \n",
      "\n",
      "          DISCHARGE_LOCATION INSURANCE LANGUAGE           RELIGION  \\\n",
      "0  DISC-TRAN CANCER/CHLDRN H   Private      NaN       UNOBTAINABLE   \n",
      "1           HOME HEALTH CARE  Medicare      NaN           CATHOLIC   \n",
      "2           HOME HEALTH CARE  Medicare     ENGL           CATHOLIC   \n",
      "3                       HOME   Private      NaN  PROTESTANT QUAKER   \n",
      "4                       HOME   Private      NaN       UNOBTAINABLE   \n",
      "\n",
      "  MARITAL_STATUS ETHNICITY            EDREGTIME            EDOUTTIME  \\\n",
      "0        MARRIED     WHITE  2196-04-09 10:06:00  2196-04-09 13:24:00   \n",
      "1        MARRIED     WHITE                  NaN                  NaN   \n",
      "2        MARRIED     WHITE                  NaN                  NaN   \n",
      "3         SINGLE     WHITE                  NaN                  NaN   \n",
      "4        MARRIED     WHITE  2160-11-02 01:01:00  2160-11-02 04:27:00   \n",
      "\n",
      "                                           DIAGNOSIS  HOSPITAL_EXPIRE_FLAG  \\\n",
      "0                            BENZODIAZEPINE OVERDOSE                     0   \n",
      "1  CORONARY ARTERY DISEASE\\CORONARY ARTERY BYPASS...                     0   \n",
      "2                                         BRAIN MASS                     0   \n",
      "3                     INTERIOR MYOCARDIAL INFARCTION                     0   \n",
      "4                            ACUTE CORONARY SYNDROME                     0   \n",
      "\n",
      "   HAS_CHARTEVENTS_DATA  \n",
      "0                     1  \n",
      "1                     1  \n",
      "2                     1  \n",
      "3                     1  \n",
      "4                     1  \n",
      "Index(['ROW_ID', 'SUBJECT_ID', 'HADM_ID', 'ADMITTIME', 'DISCHTIME',\n",
      "       'DEATHTIME', 'ADMISSION_TYPE', 'ADMISSION_LOCATION',\n",
      "       'DISCHARGE_LOCATION', 'INSURANCE', 'LANGUAGE', 'RELIGION',\n",
      "       'MARITAL_STATUS', 'ETHNICITY', 'EDREGTIME', 'EDOUTTIME', 'DIAGNOSIS',\n",
      "       'HOSPITAL_EXPIRE_FLAG', 'HAS_CHARTEVENTS_DATA'],\n",
      "      dtype='object')\n"
     ]
    }
   ],
   "source": [
    "# By incorporating the admissions table, find how long each stay was BEFORE the patients were admitted to the ICU\n",
    "\n",
    "print(admissions.head())\n",
    "print(admissions.columns)"
   ]
  },
  {
   "cell_type": "code",
   "execution_count": 106,
   "metadata": {
    "collapsed": false
   },
   "outputs": [
    {
     "data": {
      "image/png": "[encoded data removed]",
      "text/plain": [
       "<matplotlib.figure.Figure at 0x115afe9e8>"
      ]
     },
     "metadata": {},
     "output_type": "display_data"
    },
    {
     "data": {
      "image/png": "[encoded data removed]",
      "text/plain": [
       "<matplotlib.figure.Figure at 0x11634b5c0>"
      ]
     },
     "metadata": {},
     "output_type": "display_data"
    },
    {
     "name": "stdout",
     "output_type": "stream",
     "text": [
      "['EMERGENCY ROOM ADMIT' 'PHYS REFERRAL/NORMAL DELI'\n",
      " 'TRANSFER FROM HOSP/EXTRAM' 'CLINIC REFERRAL/PREMATURE'\n",
      " 'TRANSFER FROM SKILLED NUR' 'HMO REFERRAL/SICK'\n",
      " 'TRANSFER FROM OTHER HEALT' '** INFO NOT AVAILABLE **'\n",
      " 'TRSF WITHIN THIS FACILITY']\n",
      "['DISC-TRAN CANCER/CHLDRN H' 'HOME HEALTH CARE' 'HOME' 'DEAD/EXPIRED'\n",
      " 'REHAB/DISTINCT PART HOSP' 'LONG TERM CARE HOSPITAL'\n",
      " 'DISC-TRAN TO FEDERAL HC' 'SNF' 'SHORT TERM HOSPITAL'\n",
      " 'HOSPICE-MEDICAL FACILITY' 'HOME WITH HOME IV PROVIDR' 'HOSPICE-HOME'\n",
      " 'LEFT AGAINST MEDICAL ADVI' 'DISCH-TRAN TO PSYCH HOSP' 'OTHER FACILITY'\n",
      " 'ICF' 'SNF-MEDICAID ONLY CERTIF']\n"
     ]
    }
   ],
   "source": [
    "# What are the possible locations for admission and discharge?\n",
    "\n",
    "admissions['ADMISSION_LOCATION'].value_counts().plot(kind='bar')\n",
    "plt.show()\n",
    "\n",
    "admissions['DISCHARGE_LOCATION'].value_counts().plot(kind='bar')\n",
    "plt.show()\n",
    "\n",
    "print(admissions['ADMISSION_LOCATION'].unique())\n",
    "print(admissions['DISCHARGE_LOCATION'].unique())"
   ]
  },
  {
   "cell_type": "code",
   "execution_count": 107,
   "metadata": {
    "collapsed": false
   },
   "outputs": [
    {
     "name": "stdout",
     "output_type": "stream",
     "text": [
      "3260\n"
     ]
    }
   ],
   "source": [
    "# Determine how many ICU_stays each HADM has\n",
    "\n",
    "counts = icu_data['HADM_ID'].value_counts()\n",
    "\n",
    "print(len([count for count in counts if count > 1]))\n",
    "\n",
    "# Thus there are 3260 hospital stays with over 1 ICU stay"
   ]
  },
  {
   "cell_type": "code",
   "execution_count": 130,
   "metadata": {
    "collapsed": false
   },
   "outputs": [
    {
     "name": "stdout",
     "output_type": "stream",
     "text": [
      "ICUSTAY_ID                  0\n",
      "INTIME                      0\n",
      "OUTTIME                    10\n",
      "ROW_ID                      0\n",
      "SUBJECT_ID                  0\n",
      "ADMITTIME                   0\n",
      "DISCHTIME                   0\n",
      "DEATHTIME               54923\n",
      "ADMISSION_TYPE              0\n",
      "ADMISSION_LOCATION          0\n",
      "DISCHARGE_LOCATION          0\n",
      "INSURANCE                   0\n",
      "LANGUAGE                26154\n",
      "RELIGION                  480\n",
      "MARITAL_STATUS          10240\n",
      "ETHNICITY                   0\n",
      "EDREGTIME               28760\n",
      "EDOUTTIME               28760\n",
      "DIAGNOSIS                   1\n",
      "HOSPITAL_EXPIRE_FLAG        0\n",
      "HAS_CHARTEVENTS_DATA        0\n",
      "dtype: int64\n"
     ]
    },
    {
     "data": {
      "image/png": "[encoded data removed]",
      "text/plain": [
       "<matplotlib.figure.Figure at 0x1166ba518>"
      ]
     },
     "metadata": {},
     "output_type": "display_data"
    }
   ],
   "source": [
    "# Join the ICU table and the admissions table by HADM_ID\n",
    "# Then add a new column that subtracts the times\n",
    "# Convert the string dates into datetime objects and subtract to get the time \n",
    "\n",
    "import time\n",
    "import datetime\n",
    "\n",
    "joined = icu_data.set_index('HADM_ID').join(admissions.set_index('HADM_ID'))\n",
    "\n",
    "times = []\n",
    "stamps = []\n",
    "\n",
    "# There are null values for outtime thus these will be ignored\n",
    "print(joined.isnull().sum())\n",
    "\n",
    "\n",
    "for i in range(len(joined)):\n",
    "    timeIn = datetime.datetime.strptime(joined.iloc[i]['INTIME'], \"%Y-%m-%d %H:%M:%S\")\n",
    "    \n",
    "    if not isinstance(joined.iloc[i]['OUTTIME'], float):\n",
    "        timeOut = datetime.datetime.strptime(joined.iloc[i]['OUTTIME'], \"%Y-%m-%d %H:%M:%S\")\n",
    "        t = time.mktime(datetime.datetime.strptime(joined.iloc[i]['INTIME'], \"%Y-%m-%d %H:%M:%S\").timetuple())\n",
    "        stamps.append(t)\n",
    "        times.append(timeOut - timeIn)\n",
    "\n",
    "plt.hist(stamps, bins=50)\n",
    "plt.xlabel('Time before ICU stay (milliseconds)')\n",
    "plt.ylabel('Number of stays')\n",
    "plt.title('Time in hospital before ICU')\n",
    "plt.show()"
   ]
  },
  {
   "cell_type": "code",
   "execution_count": 43,
   "metadata": {
    "collapsed": true
   },
   "outputs": [
    {
     "data": {
      "text/html": [
       "<div>\n",
       "<table border=\"1\" class=\"dataframe\">\n",
       "  <thead>\n",
       "    <tr style=\"text-align: right;\">\n",
       "      <th></th>\n",
       "      <th>number</th>\n",
       "      <th>info</th>\n",
       "    </tr>\n",
       "    <tr>\n",
       "      <th>name</th>\n",
       "      <th></th>\n",
       "      <th></th>\n",
       "    </tr>\n",
       "  </thead>\n",
       "  <tbody>\n",
       "    <tr>\n",
       "      <th>A</th>\n",
       "      <td>0</td>\n",
       "      <td>5</td>\n",
       "    </tr>\n",
       "    <tr>\n",
       "      <th>A</th>\n",
       "      <td>0</td>\n",
       "      <td>6</td>\n",
       "    </tr>\n",
       "    <tr>\n",
       "      <th>A</th>\n",
       "      <td>1</td>\n",
       "      <td>5</td>\n",
       "    </tr>\n",
       "    <tr>\n",
       "      <th>A</th>\n",
       "      <td>1</td>\n",
       "      <td>6</td>\n",
       "    </tr>\n",
       "    <tr>\n",
       "      <th>C</th>\n",
       "      <td>2</td>\n",
       "      <td>NaN</td>\n",
       "    </tr>\n",
       "  </tbody>\n",
       "</table>\n",
       "</div>"
      ],
      "text/plain": [
       "     number info\n",
       "name            \n",
       "A         0    5\n",
       "A         0    6\n",
       "A         1    5\n",
       "A         1    6\n",
       "C         2  NaN"
      ]
     },
     "execution_count": 43,
     "metadata": {},
     "output_type": "execute_result"
    }
   ],
   "source": [
    "# Dataframe join practice\n",
    "# If a certain column has multiple of a certain value, the join operation will create all permutations\n",
    "\n",
    "caller = pd.DataFrame({'name': ['A', 'A', 'C'],\n",
    "                       'number': ['0', '1', '2']})\n",
    "receiver = pd.DataFrame({'name': ['A', 'A'],\n",
    "                        'info': ['5', '6']})\n",
    "\n",
    "caller.set_index('name').join(receiver.set_index('name'))"
   ]
  },
  {
   "cell_type": "markdown",
   "metadata": {},
   "source": [
    "<h1>Problem 4</h1>"
   ]
  },
  {
   "cell_type": "code",
   "execution_count": 127,
   "metadata": {
    "collapsed": false
   },
   "outputs": [
    {
     "name": "stdout",
     "output_type": "stream",
     "text": [
      "Number of deaths in ICU: 4224\n",
      "Number of deaths in hospital: 2384\n"
     ]
    }
   ],
   "source": [
    "# Find how many deaths occurred when the patient is in hospital and how many when patient in ICU\n",
    "\n",
    "deathHosp = 0\n",
    "deathICU = 0\n",
    "\n",
    "# First check if the deathtime is null or not\n",
    "for i in range(len(joined)):\n",
    "    # if it is a float, then it is null\n",
    "    if not isinstance(joined.iloc[i]['OUTTIME'], float) and not isinstance(joined.iloc[i]['DEATHTIME'], float): \n",
    "        # Convert the string into a time and compare against ICU times\n",
    "        ICUin = datetime.datetime.strptime(joined.iloc[i]['INTIME'], \"%Y-%m-%d %H:%M:%S\")\n",
    "        ICUout = datetime.datetime.strptime(joined.iloc[i]['OUTTIME'], \"%Y-%m-%d %H:%M:%S\")\n",
    "        deathTime = datetime.datetime.strptime(joined.iloc[i]['DEATHTIME'], \"%Y-%m-%d %H:%M:%S\")\n",
    "        \n",
    "        if deathTime > ICUin and deathTime < ICUout:\n",
    "            deathICU += 1 # Died in ICU\n",
    "        else:\n",
    "            deathHosp += 1 # Died in hospital\n",
    "            \n",
    "print('Number of deaths in ICU: %d' %(deathICU))\n",
    "print('Number of deaths in hospital: %d' %(deathHosp))\n"
   ]
  },
  {
   "cell_type": "code",
   "execution_count": null,
   "metadata": {
    "collapsed": true
   },
   "outputs": [],
   "source": []
  }
 ],
 "metadata": {
  "kernelspec": {
   "display_name": "Python 3",
   "language": "python",
   "name": "python3"
  },
  "language_info": {
   "codemirror_mode": {
    "name": "ipython",
    "version": 3
   },
   "file_extension": ".py",
   "mimetype": "text/x-python",
   "name": "python",
   "nbconvert_exporter": "python",
   "pygments_lexer": "ipython3",
   "version": "3.4.5"
  }
 },
 "nbformat": 4,
 "nbformat_minor": 1
}
