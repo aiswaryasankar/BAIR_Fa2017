{
 "cells": [
  {
   "cell_type": "markdown",
   "metadata": {},
   "source": [
    "<h1>Preprocess ICD9 codes</h1>"
   ]
  },
  {
   "cell_type": "code",
   "execution_count": 1,
   "metadata": {
    "collapsed": false
   },
   "outputs": [
    {
     "name": "stderr",
     "output_type": "stream",
     "text": [
      "/Users/aiswaryasankar/anaconda3/lib/python3.4/site-packages/IPython/core/interactiveshell.py:2717: DtypeWarning: Columns (4,5) have mixed types. Specify dtype option on import or set low_memory=False.\n",
      "  interactivity=interactivity, compiler=compiler, result=result)\n"
     ]
    },
    {
     "name": "stdout",
     "output_type": "stream",
     "text": [
      "             ROW_ID\n",
      "count  14567.000000\n",
      "mean    7284.000000\n",
      "std     4205.275021\n",
      "min        1.000000\n",
      "25%     3642.500000\n",
      "50%     7284.000000\n",
      "75%    10925.500000\n",
      "max    14567.000000\n",
      "            ROW_ID    ICD9_CODE\n",
      "count  3882.000000  3882.000000\n",
      "mean   1941.500000  5466.241628\n",
      "std    1120.781201  3183.187486\n",
      "min       1.000000     1.000000\n",
      "25%     971.250000  2837.000000\n",
      "50%    1941.500000  5672.500000\n",
      "75%    2911.750000  8382.750000\n",
      "max    3882.000000  9999.000000\n",
      "              ROW_ID     SUBJECT_ID        HADM_ID        SEQ_NUM\n",
      "count  651047.000000  651047.000000  651047.000000  651000.000000\n",
      "mean   325524.000000   38971.159758  150017.744819       7.913836\n",
      "std    187941.224689   29372.198841   28878.068648       6.072633\n",
      "min         1.000000       2.000000  100001.000000       1.000000\n",
      "25%    162762.500000   14562.500000  125028.000000       3.000000\n",
      "50%    325524.000000   28671.000000  150140.000000       6.000000\n",
      "75%    488285.500000   63715.000000  174978.000000      11.000000\n",
      "max    651047.000000   99999.000000  199999.000000      39.000000\n"
     ]
    }
   ],
   "source": [
    "import numpy as np\n",
    "import pandas as pd\n",
    "import matplotlib.pyplot as plt\n",
    "\n",
    "\n",
    "# Read in the ICD9 code dataset\n",
    "# These are the dictionaries that store info regarding the code and what it represents\n",
    "diagnoses_dict = pd.read_csv('MIMIC_Data/D_ICD_DIAGNOSES.csv')\n",
    "procedures_dict = pd.read_csv('MIMIC_Data/D_ICD_PROCEDURES.csv')\n",
    "notes = pd.read_csv('MIMIC_Data/NOTEEVENTS.csv')\n",
    "patient_codes = pd.read_csv('MIMIC_Data/DIAGNOSES_ICD.csv')\n",
    "\n",
    "print(diagnoses_dict.describe())\n",
    "print(procedures_dict.describe())\n",
    "print(patient_codes.describe())\n"
   ]
  },
  {
   "cell_type": "code",
   "execution_count": 2,
   "metadata": {
    "collapsed": false
   },
   "outputs": [
    {
     "name": "stdout",
     "output_type": "stream",
     "text": [
      "Columns diagnoses_dict\n",
      "Index(['ROW_ID', 'ICD9_CODE', 'SHORT_TITLE', 'LONG_TITLE'], dtype='object')\n",
      "\n",
      "Columns procedures_dict\n",
      "Index(['ROW_ID', 'ICD9_CODE', 'SHORT_TITLE', 'LONG_TITLE'], dtype='object')\n",
      "\n",
      "Columns patient_codes\n",
      "Index(['ROW_ID', 'SUBJECT_ID', 'HADM_ID', 'SEQ_NUM', 'ICD9_CODE'], dtype='object')\n",
      "\n",
      "Columns notes\n",
      "Index(['ROW_ID', 'SUBJECT_ID', 'HADM_ID', 'CHARTDATE', 'CHARTTIME',\n",
      "       'STORETIME', 'CATEGORY', 'DESCRIPTION', 'CGID', 'ISERROR', 'TEXT'],\n",
      "      dtype='object')\n"
     ]
    }
   ],
   "source": [
    "# Print out the columns for each database\n",
    "\n",
    "print('Columns diagnoses_dict')\n",
    "print(diagnoses_dict.columns)\n",
    "\n",
    "print('\\nColumns procedures_dict')\n",
    "print(procedures_dict.columns)\n",
    "\n",
    "print('\\nColumns patient_codes')\n",
    "print(patient_codes.columns)\n",
    "\n",
    "print('\\nColumns notes')\n",
    "print(notes.columns)"
   ]
  },
  {
   "cell_type": "code",
   "execution_count": 3,
   "metadata": {
    "collapsed": false
   },
   "outputs": [
    {
     "name": "stdout",
     "output_type": "stream",
     "text": [
      "   ROW_ID  SUBJECT_ID   HADM_ID   CHARTDATE CHARTTIME STORETIME  \\\n",
      "0     174       22532  167853.0  2151-08-04       NaN       NaN   \n",
      "1     175       13702  107527.0  2118-06-14       NaN       NaN   \n",
      "2     176       13702  167118.0  2119-05-25       NaN       NaN   \n",
      "3     177       13702  196489.0  2124-08-18       NaN       NaN   \n",
      "4     178       26880  135453.0  2162-03-25       NaN       NaN   \n",
      "\n",
      "            CATEGORY DESCRIPTION  CGID  ISERROR  \\\n",
      "0  Discharge summary      Report   NaN      NaN   \n",
      "1  Discharge summary      Report   NaN      NaN   \n",
      "2  Discharge summary      Report   NaN      NaN   \n",
      "3  Discharge summary      Report   NaN      NaN   \n",
      "4  Discharge summary      Report   NaN      NaN   \n",
      "\n",
      "                                                TEXT  \n",
      "0  Admission Date:  [**2151-7-16**]       Dischar...  \n",
      "1  Admission Date:  [**2118-6-2**]       Discharg...  \n",
      "2  Admission Date:  [**2119-5-4**]              D...  \n",
      "3  Admission Date:  [**2124-7-21**]              ...  \n",
      "4  Admission Date:  [**2162-3-3**]              D...  \n"
     ]
    }
   ],
   "source": [
    "print(notes.head())"
   ]
  },
  {
   "cell_type": "markdown",
   "metadata": {},
   "source": [
    "<h1>10 Most Common ICD9 codes</h1>"
   ]
  },
  {
   "cell_type": "code",
   "execution_count": 47,
   "metadata": {
    "collapsed": false
   },
   "outputs": [
    {
     "name": "stdout",
     "output_type": "stream",
     "text": [
      "Top ICD9 codes \t\t\t\t Percent of Patients with code\n",
      "\n",
      "4019: Hypertension NOS\t\t 0.445034\n",
      "4280: CHF NOS\t\t 0.281836\n",
      "42731: Atrial fibrillation\t\t 0.277107\n",
      "41401: Crnry athrscl natve vssl\t\t 0.267175\n",
      "5849: Acute kidney failure NOS\t\t 0.196023\n",
      "25000: DMII wo cmp nt st uncntr\t\t 0.194712\n",
      "2724: Hyperlipidemia NEC/NOS\t\t 0.186801\n",
      "51881: Acute respiratry failure\t\t 0.161156\n",
      "5990: Urin tract infection NOS\t\t 0.140907\n",
      "53081: Esophageal reflux\t\t 0.135985\n"
     ]
    }
   ],
   "source": [
    "# Determine which are the top 10 used codes \n",
    "# Create a histogram of the ICD9_Codes used in patient_codes and extract the Short_title from the dict\n",
    "\n",
    "extra = [(code, count) for count, code in \n",
    "          zip(patient_codes['ICD9_CODE'].value_counts(), patient_codes['ICD9_CODE'].value_counts().index.tolist())][:10]\n",
    "top10_ICD9_codes = [code for code in patient_codes['ICD9_CODE'].value_counts().index.tolist()][:10]\n",
    "top10_ICD9_counts = [count for count in patient_codes['ICD9_CODE'].value_counts()][:10]\n",
    "\n",
    "# Given the ICD9_CODE, lookup the code in the dictionary to figure out the name\n",
    "# Get another column value from dataframe if a column is a certain value\n",
    "ICD9_names = [diagnoses_dict.loc[diagnoses_dict['ICD9_CODE'] == val, 'SHORT_TITLE'].item() for val in ICD9_codes]\n",
    "\n",
    "num_patients = 46520 # total number of patients in the dataset\n",
    "print('Top ICD9 codes \\t\\t\\t\\t Percent of Patients with code\\n')\n",
    "for code, count, name in zip(top10_ICD9_codes, top10_ICD9_counts, ICD9_names):\n",
    "    print('%s: %s\\t\\t %f' %(code, name, count / num_patients))\n"
   ]
  },
  {
   "cell_type": "code",
   "execution_count": 5,
   "metadata": {
    "collapsed": false
   },
   "outputs": [
    {
     "data": {
      "image/png": "[encoded data removed]",
      "text/plain": [
       "<matplotlib.figure.Figure at 0x10ed18240>"
      ]
     },
     "metadata": {},
     "output_type": "display_data"
    }
   ],
   "source": [
    "# Display the distribution of ICD9 diagnosis codes\n",
    "\n",
    "plt.hist(procedures_dict['ICD9_CODE'])\n",
    "plt.xlabel('ICD9 code number')\n",
    "plt.ylabel('Number of code occurences')\n",
    "plt.title('Distribution of ICD9 diagnosis codes')\n",
    "plt.show()"
   ]
  },
  {
   "cell_type": "markdown",
   "metadata": {},
   "source": [
    "<h1>Explore Medical Note database</h1>"
   ]
  },
  {
   "cell_type": "code",
   "execution_count": 6,
   "metadata": {
    "collapsed": false,
    "scrolled": true
   },
   "outputs": [
    {
     "name": "stdout",
     "output_type": "stream",
     "text": [
      "Admission Date:  [**2119-5-4**]              Discharge Date:   [**2119-5-25**]\n",
      "\n",
      "\n",
      "Service: CARDIOTHORACIC\n",
      "\n",
      "Allergies:\n",
      "Amlodipine\n",
      "\n",
      "Attending:[**Last Name (NamePattern1) 1561**]\n",
      "Chief Complaint:\n",
      "81 yo F smoker w/ COPD, severe TBM, s/p tracheobronchoplasty [**5-5**]\n",
      "s/p perc trach [**5-13**]\n",
      "\n",
      "Major Surgical or Invasive Procedure:\n",
      "bronchoscopy 3/31,4/2,3,[**6-12**], [**5-17**], [**5-19**]\n",
      "s/p trachealplasty [**5-5**]\n",
      "percutaneous tracheostomy [**5-13**] after failed extubation\n",
      "down size trach on [**5-25**] to size 6 cuffless\n",
      "\n",
      "\n",
      "History of Present Illness:\n",
      "This 81 year old woman has a history of COPD. Over the past five\n",
      "\n",
      "years she has had progressive difficulties with her breathing.\n",
      "In\n",
      "[**2118-6-4**] she was admitted to [**Hospital1 18**] for respiratory failure\n",
      "due\n",
      "to a COPD exacerbation. Due to persistent hypoxemia, she\n",
      "required\n",
      "intubation and a eventual bronchoscopy on [**2118-6-9**] revealed marked\n",
      "\n",
      "narrowing of the airways on expiration consistent with\n",
      "tracheomalacia.\n",
      "She subsequently underwent placement of two\n",
      "silicone stents, one in the left main stem and one in the\n",
      "trachea. During the admission the patient had complaints of\n",
      "chest\n",
      "pain and ruled out for an MI. She was subsequently discharged to\n",
      "\n",
      "[**Hospital1 **] for physical and pulmonary rehab. Repeat bronchoscopy\n",
      "on\n",
      "[**2118-8-1**] revealed granulation tissue at the distal right lateral\n",
      "wall of the tracheal stent. There was significant malacia of the\n",
      "\n",
      "peripheral and central airways with complete collapse of the\n",
      "airways on coughing and forced expiration. Small nodules were\n",
      "also noted on the vocal cords. She has noticed improvement in\n",
      "her\n",
      "respiratory status, but most recently has been in discussion\n",
      "with Dr. [**First Name4 (NamePattern1) 951**] [**Last Name (NamePattern1) 952**] regarding possible tracheobronchial plasty\n",
      "\n",
      "with mesh. Tracheal stents d/c [**2119-4-19**] in anticipation of\n",
      "surgery.\n",
      "In terms of symptoms, she describes many years of intermittent\n",
      "chest pain that she describes as left sided and occurring at any\n",
      "\n",
      "time. Currently, she notices it about three times a week, and\n",
      "states that it seems to resolve after three nitroglycerin.\n",
      "She currently is dependent on oxygen and wears 1.5-2 liters\n",
      "around the clock. She has frequent coughing and brings up \"dark\n",
      "sputum\".\n",
      "\n",
      "\n",
      "\n",
      "Past Medical History:\n",
      "COPD flare [**6-7**] s/p intubation, s/p distal tracheal to Left Main\n",
      "Stem stents placed [**2118-6-9**]. Stents d/c'd [**2119-4-19**], CAD w/ atypical\n",
      "angina (LAD 30%, RCA 30%, EF 63%), ^chol, hypothyroidism, htn,\n",
      "hiatal hernia, lacunar CVA, s/p ped struck -> head injury & rib\n",
      "fx, depression\n",
      "PMH:\n",
      "COPD, s/p admit [**6-7**] for exacerbation requiring intubation\n",
      "tracheobronchomalacia, s/p bronchial stenting\n",
      "Large hiatal hernia\n",
      "Lacunar CVA\n",
      "Hypothyroidism by records in CCC, although patient denies and is\n",
      "\n",
      "not taking any medication\n",
      "Depression\n",
      "MVA, s/p head injury approximately 10 years ago\n",
      "Hypertension\n",
      "Hysterectomy\n",
      "\n",
      "\n",
      "Social History:\n",
      "Social History: The patient is married and worked as a clinical\n",
      "psychologist. Her husband is a pediatric neurologist at\n",
      "[**Hospital3 **]. They have several children, one of which is\n",
      "\n",
      "a nurse.\n",
      "\n",
      "\n",
      "Family History:\n",
      "Family History: (+) FHx CAD; Father with an MI in his 40's, died\n",
      "\n",
      "of a CVA at age 59\n",
      "\n",
      "\n",
      "Physical Exam:\n",
      "Admit H+P\n",
      "General-lovely 81 yr old feamle in NAD.\n",
      "Neuro- intermittently anxious, MAE, PERRLA, L eye ptosis,\n",
      "symetrical smile, gossly intact.\n",
      "HEENT-PERRLA, sclera anicteric, pharynx- no exud or erythema\n",
      "Resp-clear upper, diffuse ronchi, intermit exp wheezes\n",
      "Cor- RRR, No M, R, G\n",
      "Abd- soft, NT, ND, no masses. Slight protrusion at area of\n",
      "hiatal hernia\n",
      "Ext- no edema or clubbing\n",
      "\n",
      "Brief Hospital Course:\n",
      "82 y/o female admitted [**2119-5-4**] for consideration of\n",
      "tracheoplasty.\n",
      "Bronchoscopy done [**5-4**] confirming severe TBM. Underwent\n",
      "tracheoplasty [**5-5**], complicated by resp failure d/t mucous\n",
      "plugging, hypoxia requiring re-intubation resulting in prolonged\n",
      "ICU and hospital course. Also developed right upper extrem DVT\n",
      "from mid line.\n",
      "\n",
      "Pain- Epidural accidently d/c'd POD#1, pt briefly used dilaudid\n",
      "PCA intermittently w/ fair pain control. Pt required\n",
      "re-intubation for resp failure d/t secretions and PCA d/c at\n",
      "that time. Propofol for sedation while intubated. Sedation d/c'd\n",
      "[**5-12**] for weaning trial w/ ETT- failed trial. Trach [**5-13**]-weaning\n",
      "efforts as below. Minimal c/o pain since [**5-13**]. Presently pain\n",
      "free.\n",
      "\n",
      "Neuro- Initially intact- post op aggitation, inhibiting weaning\n",
      "efforts [**5-16**]. Psych eval [**5-18**]-Started on zyprexa and ativan w/\n",
      "improvement in anxiety. Presently A+Ox3- cooperative and lovely.\n",
      "\n",
      "Resp- Extubated POD#2 then required re-intub  [**5-7**] for hypoxia\n",
      "d/t poor cough and mucous plugging. SIMV/PS alt w/CMV at night\n",
      "x4-5d, with CPAP attempts during day.\n",
      "Bronchoscopy qd [**Date range (1) 1813**] for secretion management. Bronch [**5-9**]\n",
      "revealed swollen epiglottis, bronch [**5-10**] - good leak w/ ETT cuff\n",
      "deflated. Bronch [**5-13**] for eval/trach placement. Last bronch [**5-19**]\n",
      "w/ min secretions present, sputum sent.\n",
      "[**5-13**] perc trach done(#8 Portex- cuffed low pressure maintained to\n",
      "preserve tracheoplasty site). [**5-13**] CPAP15/peep5 initiated post\n",
      "trach placement. Weaning ongoing.  [**Date range (1) 1814**]- Aggressive weaning\n",
      "w/ increasing episodes of CPAP, progressing to Trach Mask.\n",
      "[**2033-5-20**]-Trach mask overnight w/ no episodes of SOB, or\n",
      "hemodynamic instability. Trach changed to #6 portex- capped and\n",
      "[**Last Name (un) 1815**] well x48hrs on 2LNP. productive cough. Aggressive PT as\n",
      "well w/ OOB > chair [**Hospital1 **]-tid to total 4-6hr qd. Ambulation\n",
      "~100-120 ft [**5-22**] w/ PT assist.\n",
      "\n",
      "ID- Vancomycin started post-op for graft prophylaxis. Fever\n",
      "spike [**2119-5-8**] w/ BAl & sputum sent> + MRSA. Vanco cont to [**4-7**]\n",
      "weeks post trachealplasty. Fever low grade [**5-12**], [**5-15**]> cultured-\n",
      "no new results. [**5-19**]- WBC 20.8 .\n",
      "\n",
      "Cardiac-Hypertension controlled w/ hydralazine IV, then d/c and\n",
      "cont controlled. HR 65-75 NSR. Avoiding B Blockers. Lasix 20mg\n",
      "IV qd.\n",
      "[**5-15**]- RUE redness and swelling at site of midline, RUE DVT by\n",
      "ultrasound, midline d/c; heparin gtt started and therapeutic\n",
      "range monitored. [**5-22**]  changed to Lovenox sq [**Hospital1 **]. Coags in good\n",
      "control [**5-23**] (48.2/13.8/1.2)\n",
      "Access- R midline placed [**2119-5-9**] for access- clotted [**2119-5-15**] and\n",
      "d/c'd.  RUE redness and swelling and DVT via ultrasound. [**5-15**]- L\n",
      "brachial PICC line placed- TPN resumed.\n",
      "\n",
      "GI-Large hiatal hernia- unable to place enteral feeding tube at\n",
      "bedside or underfluoro. Re-attempt [**5-17**] by EGD doboff tube\n",
      "placed distal esophagus, dislodged in 12hours and removed.\n",
      "\n",
      "Nutrition- PPN/TPN initiated [**2119-5-8**]- [**2119-5-25**]. PICC placed\n",
      "[**2119-5-15**]. Speech and Swallow eval [**5-22**]- rec change trach form #8\n",
      "to #6 Portex to allow improved epiglotis and oropharyngeal\n",
      "movement to assist w/ swallowing. Then re-eval.  Trach changed\n",
      "[**5-23**] to #6 cuffless portex trach. Passed repeat swallow eval and\n",
      "[**Last Name (un) 1815**] diet of regular solids w/ thin liquids- CHIN TUCK to\n",
      "swallow thin liquids. Give meds whole w/ apple sauce. WOULD\n",
      "RECOMMEND repeat video swallow eval in [**8-17**] days to possibly\n",
      "eliminate chin tuck- see page 3 referral.\n",
      "\n",
      "Endo- Hypothyroid, maintained on levoxyl.\n",
      "\n",
      "Muscu/Skel- OOB> chair 4-6hours/day, PT consulting.\n",
      "\n",
      "\n",
      "Medications on Admission:\n",
      "advair 250/50\", atrovent, imdur 60', lasix 40', lexapro 20',\n",
      "lipitor 10', prilosec 20', mucinex 600\", synthroid 75', detrol\n",
      "LA 4', ambien 5', trazadone 75', melatonin prn\n",
      "\n",
      "Discharge Medications:\n",
      "1. Albuterol Sulfate 0.083 % Solution Sig: One (1)  Inhalation\n",
      "Q6H (every 6 hours) as needed for wheezing.\n",
      "2. Ipratropium Bromide 0.02 % Solution Sig: One (1)  Inhalation\n",
      "Q6H (every 6 hours) as needed for wheezing.\n",
      "3. Fluticasone-Salmeterol 250-50 mcg/Dose Disk with Device Sig:\n",
      "One (1) Disk with Device Inhalation [**Hospital1 **] (2 times a day).\n",
      "4. Albuterol 90 mcg/Actuation Aerosol Sig: 1-2 Puffs Inhalation\n",
      "Q6H (every 6 hours) as needed.\n",
      "5. Ipratropium Bromide 18 mcg/Actuation Aerosol Sig: Two (2)\n",
      "Puff Inhalation QID (4 times a day).\n",
      "6. Acetaminophen 325 mg Tablet Sig: 1-2 Tablets PO Q4-6H (every\n",
      "4 to 6 hours) as needed.\n",
      "7. Sodium Chloride 0.65 % Aerosol, Spray Sig: [**2-5**] Sprays Nasal\n",
      "QID (4 times a day) as needed.\n",
      "8. Camphor-Menthol 0.5-0.5 % Lotion Sig: One (1) Appl Topical\n",
      "TID (3 times a day) as needed.\n",
      "9. Enoxaparin Sodium 60 mg/0.6mL Syringe Sig: One (1)\n",
      "Subcutaneous Q12H (every 12 hours).\n",
      "10. Trazodone HCl 50 mg Tablet Sig: 1.5 Tablets PO HS (at\n",
      "bedtime) as needed.\n",
      "11. Escitalopram Oxalate 10 mg Tablet Sig: Two (2) Tablet PO\n",
      "DAILY (Daily).\n",
      "12. Nystatin 100,000 unit/g Cream Sig: One (1) Appl Topical  [**Hospital1 **]\n",
      "(2 times a day).\n",
      "13. Pantoprazole Sodium 40 mg Tablet, Delayed Release (E.C.)\n",
      "Sig: One (1) Tablet, Delayed Release (E.C.) PO Q24H (every 24\n",
      "hours).\n",
      "14. Tolterodine Tartrate 2 mg Tablet Sig: One (1) Tablet PO BID\n",
      "(2 times a day).\n",
      "15. Levothyroxine Sodium 75 mcg Tablet Sig: One (1) Tablet PO\n",
      "DAILY (Daily).\n",
      "16. Heparin Lock Flush (Porcine) 100 unit/mL Syringe Sig: One\n",
      "(1) ML Intravenous  DAILY (Daily) as needed.\n",
      "\n",
      "\n",
      "Discharge Disposition:\n",
      "Extended Care\n",
      "\n",
      "Facility:\n",
      "[**Hospital3 7**] & Rehab Center - [**Hospital1 8**]\n",
      "\n",
      "Discharge Diagnosis:\n",
      "COPD, Coronary Artery Disease/atypical angina (LAD 30%, RCA 30%,\n",
      "EF 63%), hypercholesterolemia, hypothyroidism, Hypertension,\n",
      "hiatal hernia, Cerebral Vascular Accident,s/p Motor Vehicle\n",
      "Colision-> head injury & rib fracture.\n",
      "TBM- s/p tracheoplasty.\n",
      "\n",
      "\n",
      "Discharge Condition:\n",
      "good\n",
      "\n",
      "Discharge Instructions:\n",
      "please update Dr.[**Name (NI) 1816**] [**Telephone/Fax (1) 170**] office for:  fever,\n",
      "shortness of breath, chest pain , productive cough or if you\n",
      "have any questions or concerns.\n",
      "\n",
      "\n",
      "Completed by:[**2119-5-25**]\n"
     ]
    }
   ],
   "source": [
    "# Example of one of the medical notes\n",
    "\n",
    "print(notes.loc[2]['TEXT'])"
   ]
  },
  {
   "cell_type": "markdown",
   "metadata": {},
   "source": [
    "<h1>Merge Notes with ICD9 Codes</h1>"
   ]
  },
  {
   "cell_type": "code",
   "execution_count": 7,
   "metadata": {
    "collapsed": false
   },
   "outputs": [
    {
     "name": "stdout",
     "output_type": "stream",
     "text": [
      "2083180\n",
      "25967884\n",
      "   ROW_ID_x  SUBJECT_ID_x   HADM_ID   CHARTDATE CHARTTIME STORETIME  \\\n",
      "0       174         22532  167853.0  2151-08-04       NaN       NaN   \n",
      "1       174         22532  167853.0  2151-08-04       NaN       NaN   \n",
      "2       174         22532  167853.0  2151-08-04       NaN       NaN   \n",
      "3       174         22532  167853.0  2151-08-04       NaN       NaN   \n",
      "4       174         22532  167853.0  2151-08-04       NaN       NaN   \n",
      "\n",
      "            CATEGORY DESCRIPTION  CGID  ISERROR  \\\n",
      "0  Discharge summary      Report   NaN      NaN   \n",
      "1  Discharge summary      Report   NaN      NaN   \n",
      "2  Discharge summary      Report   NaN      NaN   \n",
      "3  Discharge summary      Report   NaN      NaN   \n",
      "4  Discharge summary      Report   NaN      NaN   \n",
      "\n",
      "                                                TEXT  ROW_ID_y  SUBJECT_ID_y  \\\n",
      "0  Admission Date:  [**2151-7-16**]       Dischar...  250889.0       22532.0   \n",
      "1  Admission Date:  [**2151-7-16**]       Dischar...  250890.0       22532.0   \n",
      "2  Admission Date:  [**2151-7-16**]       Dischar...  250891.0       22532.0   \n",
      "3  Admission Date:  [**2151-7-16**]       Dischar...  250892.0       22532.0   \n",
      "4  Admission Date:  [**2151-7-16**]       Dischar...  250893.0       22532.0   \n",
      "\n",
      "   SEQ_NUM ICD9_CODE  \n",
      "0      1.0     01193  \n",
      "1      2.0      4254  \n",
      "2      3.0     42731  \n",
      "3      4.0      2639  \n",
      "4      5.0      2762  \n"
     ]
    }
   ],
   "source": [
    "# Determine the ICD9_id that connects to each note\n",
    "# note -> hadm_id -> ICD9_code\n",
    "\n",
    "print(len(notes))\n",
    "\n",
    "# Merging left will keep all the notes and find corresponding patient_codes\n",
    "notes_diagnoses1 = pd.merge(notes, patient_codes, how='left', on='HADM_ID')\n",
    "print(len(notes_diagnoses1))\n",
    "print(notes_diagnoses1.head())\n",
    "\n",
    "# Merging without specifying left or right only merges the ones that match up btwn the databases\n",
    "# notes_diagnoses2 = notes.merge(patient_codes)\n",
    "# print(len(notes_diagnoses2))"
   ]
  },
  {
   "cell_type": "code",
   "execution_count": 73,
   "metadata": {
    "collapsed": false
   },
   "outputs": [],
   "source": [
    "# Remove all rows that don't have an ICD9 code in the top 10 list\n",
    "validText = notes_diagnoses1[notes_diagnoses1.ICD9_CODE.isin(ICD9_codes)]\n"
   ]
  },
  {
   "cell_type": "markdown",
   "metadata": {
    "collapsed": true
   },
   "source": [
    "<h1>Bag of Words</h1>"
   ]
  },
  {
   "cell_type": "code",
   "execution_count": 95,
   "metadata": {
    "collapsed": false
   },
   "outputs": [],
   "source": [
    "# Take the text and create vectors that represent which words in the vocabulary are present in the review\n",
    "# Import various modules for string cleaning\n",
    "\n",
    "from bs4 import BeautifulSoup\n",
    "import re\n",
    "from nltk.corpus import stopwords\n",
    "\n",
    "def text_to_wordlist(text, remove_stopwords=False ):\n",
    "    \"\"\"\n",
    "    INPUT: Takes in text for one medical record\n",
    "    OUTPUT: List of words without stop words, punctuation etc.\n",
    "    \"\"\"\n",
    "    \n",
    "    # 1. Remove HTML\n",
    "    review_text = BeautifulSoup(text).get_text()\n",
    "    #  \n",
    "    # 2. Remove non-letters\n",
    "    review_text = re.sub(\"[^a-zA-Z]\",\" \", review_text)\n",
    "    #\n",
    "    # 3. Convert words to lower case and split them\n",
    "    words = review_text.lower().split()\n",
    "    #\n",
    "    # 4. Optionally remove stop words (false by default)\n",
    "    if remove_stopwords:\n",
    "        stops = set(stopwords.words(\"english\"))\n",
    "        words = [w for w in words if not w in stops]\n",
    "    #\n",
    "    # 5. Return a list of words\n",
    "    return(words)\n",
    "\n",
    "# Go through each text review and convert it into a bag of words representation\n",
    "# Dataset should be in format \n",
    "\n",
    "#validText = validText[:5] # demo on the first 5 rows\n",
    "# text_bags = []\n",
    "# for text in validText['TEXT']:\n",
    "#     text_bags.append(text_to_wordlist(text))\n",
    "\n",
    "# print(len(text_bags))"
   ]
  },
  {
   "cell_type": "markdown",
   "metadata": {},
   "source": [
    "<h1>Count Vectorizer</h1>"
   ]
  },
  {
   "cell_type": "code",
   "execution_count": 25,
   "metadata": {
    "collapsed": false,
    "scrolled": true
   },
   "outputs": [
    {
     "name": "stdout",
     "output_type": "stream",
     "text": [
      "2 abdomen\n",
      "1 abg\n",
      "1 abnormal\n",
      "2 about\n",
      "1 above\n",
      "1 access\n",
      "1 according\n",
      "1 acid\n",
      "1 acute\n",
      "1 admission\n",
      "2 advair\n",
      "1 after\n",
      "1 again\n",
      "1 age\n",
      "1 agitated\n",
      "2 ago\n",
      "5 airways\n",
      "2 albuterol\n",
      "1 allergies\n",
      "1 allowing\n",
      "1 along\n",
      "1 also\n",
      "2 although\n",
      "1 am\n",
      "2 amlodipine\n",
      "1 an\n",
      "1 anatomy\n",
      "1 and\n",
      "1 angap\n",
      "1 angina\n",
      "1 anicteric\n",
      "1 anterior\n",
      "1 anxiety\n",
      "1 any\n",
      "2 aortic\n",
      "1 apparent\n",
      "2 apparently\n",
      "2 appeared\n",
      "1 approx\n",
      "1 are\n",
      "1 arterial\n",
      "1 artery\n",
      "1 as\n",
      "1 aspirin\n",
      "1 at\n",
      "1 atorvastatin\n",
      "3 attacks\n",
      "3 attending\n",
      "1 atypical\n",
      "2 azithromycin\n",
      "1 base\n",
      "1 baseline\n",
      "1 bases\n",
      "1 baso\n",
      "1 be\n",
      "1 became\n",
      "1 because\n",
      "1 become\n",
      "2 bedbound\n",
      "1 bedtime\n",
      "1 begun\n",
      "1 beta\n",
      "1 better\n",
      "2 between\n",
      "1 bilaterally\n",
      "2 biomarkers\n",
      "1 biventricular\n",
      "1 bleeding\n",
      "1 blocker\n",
      "1 blood\n",
      "1 body\n",
      "1 bowel\n",
      "2 bp\n"
     ]
    }
   ],
   "source": [
    "from sklearn.feature_extraction.text import CountVectorizer\n",
    "\n",
    "def vectorize_text(text_bags):\n",
    "    \"\"\"\n",
    "    INPUT: The text to vectorize that has been passed through text_to_wordlist\n",
    "    OUTPUT: The counts of each word \n",
    "    \"\"\"\n",
    "    vectorizer = CountVectorizer(analyzer='word', tokenizer=None,\n",
    "                            preprocessor=None, stop_words=None,\n",
    "                            max_features = 5000)\n",
    "\n",
    "    # fit_transform() will learn the vocabulary and transform data into feature vectors\n",
    "    train_data_features = []\n",
    "    for text in text_bags:\n",
    "        train_data_features.append(vectorizer.fit_transform(text).toarray())\n",
    "\n",
    "    # train_data_features is an array with the count each word in the dictionary appeard in text\n",
    "    vocab = vectorizer.get_feature_names() # the most frequent words are chosen to be in the vocab\n",
    "    #print(vocab)\n",
    "\n",
    "    # Now let's sum up all the columns of train_data_features\n",
    "    word_counts = np.sum(train_data_features[0], axis=0)\n",
    "\n",
    "    for tag, count in zip(vocab, word_counts):\n",
    "        print(count, tag)\n",
    "    \n",
    "    return train_data_features"
   ]
  },
  {
   "cell_type": "markdown",
   "metadata": {},
   "source": [
    "<h1>TFIDF</h1>"
   ]
  },
  {
   "cell_type": "code",
   "execution_count": null,
   "metadata": {
    "collapsed": true
   },
   "outputs": [],
   "source": []
  },
  {
   "cell_type": "markdown",
   "metadata": {},
   "source": [
    "<h1>Create Datasets</h1>"
   ]
  },
  {
   "cell_type": "code",
   "execution_count": 106,
   "metadata": {
    "collapsed": false,
    "scrolled": false
   },
   "outputs": [
    {
     "name": "stdout",
     "output_type": "stream",
     "text": [
      "[174, 175, 177, 178, 179, 180, 181, 183, 184, 185]\n",
      "[2    Admission Date:  [**2151-7-16**]       Dischar...\n",
      "Name: TEXT, dtype: object, 10    Admission Date:  [**2118-6-2**]       Discharg...\n",
      "Name: TEXT, dtype: object, 22    Admission Date:  [**2124-7-21**]              ...\n",
      "Name: TEXT, dtype: object, 49    Admission Date:  [**2162-3-3**]              D...\n",
      "Name: TEXT, dtype: object, 61    Admission Date:  [**2172-3-5**]              D...\n",
      "Name: TEXT, dtype: object, 64    Admission Date:  [**2112-12-8**]              ...\n",
      "Name: TEXT, dtype: object, 73    Admission Date:  [**2150-2-25**]              ...\n",
      "Name: TEXT, dtype: object, 86    Admission Date:  [**2118-12-7**]              ...\n",
      "Name: TEXT, dtype: object, 93    Admission Date:  [**2125-2-9**]              D...\n",
      "Name: TEXT, dtype: object, 109    Admission Date:  [**2192-4-19**]              ...\n",
      "Name: TEXT, dtype: object]\n",
      "[[0, 0, 1, 0, 0, 0, 0, 0, 0, 0], [0, 0, 0, 0, 0, 0, 0, 1, 0, 0], [1, 0, 0, 1, 1, 0, 1, 0, 0, 0], [0, 1, 1, 0, 0, 0, 0, 0, 0, 0], [0, 0, 0, 0, 0, 0, 0, 0, 0, 1], [1, 1, 0, 0, 0, 0, 0, 1, 0, 0], [1, 0, 1, 0, 0, 0, 0, 0, 0, 0], [0, 0, 0, 0, 0, 0, 0, 0, 0, 1], [1, 1, 1, 0, 1, 1, 1, 0, 1, 0], [0, 1, 1, 0, 0, 0, 0, 0, 0, 1]]\n"
     ]
    }
   ],
   "source": [
    "# For each text object, generate a one hot label vector to represent which labels it connects to\n",
    "# Currently each text has multiple rows in the dataset for each of the labels it matches with\n",
    "# Go through those rows and save the corresponding labels\n",
    "\n",
    "# Group the rows by the row id - unique identifier for each text\n",
    "\n",
    "group = validText.groupby('ROW_ID_x')['ICD9_CODE'].unique()\n",
    "\n",
    "id_codes = group[group.apply(lambda x: len(x)>0)]\n",
    "id_codes_list = list(group[group.apply(lambda x: len(x)>0)].index)\n",
    "\n",
    "print(id_codes_list)\n",
    "# Need to get the text objects that correspond to the given indices\n",
    "allText = []\n",
    "for val in id_codes_list:\n",
    "    allText.append(validText.loc[validText.ROW_ID_x == val, 'TEXT'][:1])\n",
    "    \n",
    "print(allText)\n",
    "#text = [notes_diagnoses1[notes_diagnoses1.ROW_ID_x == val] for val in id_codes_list]\n",
    "#print(text[0]['TEXT'])\n",
    "\n",
    "# Convert the list of ICD9_codes into a one hot vector representation\n",
    "Y = []\n",
    "for i in range(len(id_codes)):\n",
    "    ICD9_code_list = id_codes.values[i]\n",
    "    # For each value in the list I need to get the \n",
    "    one_hot_ICD9 = [] # Store a 10 element long representation of whether or not the values are in top 10 or not\n",
    "\n",
    "    for code in top10_ICD9_codes:\n",
    "        if code in ICD9_code_list:\n",
    "            one_hot_ICD9.append(1)\n",
    "        else:\n",
    "            one_hot_ICD9.append(0)\n",
    "    Y.append(one_hot_ICD9) # Store all the one hot encoded representations\n",
    "    \n",
    "print(Y)"
   ]
  },
  {
   "cell_type": "code",
   "execution_count": 91,
   "metadata": {
    "collapsed": false
   },
   "outputs": [
    {
     "name": "stdout",
     "output_type": "stream",
     "text": [
      "10\n"
     ]
    }
   ],
   "source": [
    "# Convert the multihot encoded label into 10 different sets of labels\n",
    "# Iterate through all the arrays in Y and copy over the value at a particular index\n",
    "\n",
    "classes = [] # Stores all the Y values for each ICD9 code\n",
    "for i in range(10):\n",
    "    classes.append([elem[i] for elem in Y]) # add the array to the list of class labels\n",
    "\n",
    "print(len(classes))"
   ]
  },
  {
   "cell_type": "markdown",
   "metadata": {},
   "source": [
    "<h1>Train Model</h1>"
   ]
  },
  {
   "cell_type": "code",
   "execution_count": 92,
   "metadata": {
    "collapsed": true
   },
   "outputs": [],
   "source": [
    "def runModels(X, Y, modelList, modelNames, showGraph):\n",
    "    \"\"\"\n",
    "    INPUT: X, Y datasets, initialized list of classifiers and list of the names of models\n",
    "    OUTPUT: A bar plot with the accuracy score for each model passed in. The best performing model and its score\n",
    "            will be listed at the top of the graph.\n",
    "    \"\"\"\n",
    "\n",
    "    accuracyDict = {} # Create a dictionary that maps {modelName: acc_score}\n",
    "    maxAcc = 0 # Remembers the max accuracy score\n",
    "    bestModel = ''\n",
    "    \n",
    "    print('X shape')\n",
    "    print(len(X))\n",
    "    print('Y shape')\n",
    "    print(len(Y))\n",
    "    #Y = Y.values.ravel()\n",
    "    trainX = X[:int(.8*len(X))] # Segment out the top 80% of the data\n",
    "    trainY = Y[:int(.8*len(Y))]\n",
    "    testX = X[int(.8*len(X)): ] # Remainder of the dataset\n",
    "    testY = Y[int(.8*len(Y)): ]\n",
    "    \n",
    "    print(trainX)\n",
    "    print(trainY)\n",
    "    #plt.hist(testY)\n",
    "    #plt.show()\n",
    "\n",
    "    \n",
    "    # Loop through the models\n",
    "    for i in range(len(modelList)):\n",
    "        model = modelList[i]\n",
    "        modelName = modelNames[i]\n",
    "        model.fit(trainX, trainY) # Train the model on the training data\n",
    "\n",
    "        # Plot distribution of predictions vs distribution of actual values\n",
    "        trainPredictions = model.predict(trainX) # Predict on the training data\n",
    "        testPredictions = model.predict(testX) # Predict on the testing data\n",
    "    \n",
    "        # Histogram of predictions vs the actual labels \n",
    "        # Shows whether there are any patterns in the model's predictions as compared to the data\n",
    "        #print('predictions: ' + str(predictions[:10]))\n",
    "        #print('actual: ' + str(testY[:10]))\n",
    "        #plt.hist(testPredictions, alpha=0.5, label='Test Predictions')\n",
    "        #plt.hist(testY, alpha=0.5, label='Actual')\n",
    "        #plt.legend(loc='upper right')\n",
    "        #plt.show()\n",
    "\n",
    "        # Compute accuracy of predictions\n",
    "        trainAcc = sum([pred == act for pred, act in zip(trainPredictions, trainY)]) / len(trainPredictions)\n",
    "        testAcc = sum([pred == act for pred, act in zip(testPredictions, testY)]) / len(testPredictions)\n",
    "        \n",
    "        accuracyDict[modelName] = testAcc \n",
    "        if testAcc > maxAcc:\n",
    "            maxAcc = max(maxAcc, testAcc) # update the maxAcc if necessary\n",
    "            bestModel = modelName\n",
    "            \n",
    "        # Running progress of this loop\n",
    "        print('Model: ' + str(modelName))\n",
    "        print('training accuracy: ' + str(trainAcc))\n",
    "        print('testing accuracy: ' + str(testAcc))\n",
    "\n",
    "    # Plot a histogram of the accuracies of each model\n",
    "    if showGraph:\n",
    "        plt.title('%s Testing Accuracy' %(file), fontsize=16)\n",
    "        plt.bar(range(len(accuracyDict)), accuracyDict.values(), align='center')\n",
    "        plt.xticks(range(len(accuracyDict)), accuracyDict.keys(), rotation=55)\n",
    "        plt.ylabel('Testing accuracy', fontsize=14)\n",
    "        plt.show()\n",
    "        print(\"Best model is %s with accuracy %f\\n\\n\" %(bestModel, maxAcc))\n",
    "        \n",
    "    return(maxAcc)"
   ]
  },
  {
   "cell_type": "code",
   "execution_count": 93,
   "metadata": {
    "collapsed": false
   },
   "outputs": [
    {
     "name": "stdout",
     "output_type": "stream",
     "text": [
      "ICD9_label 0\n",
      "X shape\n",
      "5\n",
      "Y shape\n",
      "10\n",
      "[array([[0, 0, 1, ..., 0, 0, 0],\n",
      "       [0, 0, 0, ..., 0, 0, 0],\n",
      "       [0, 0, 0, ..., 0, 0, 0],\n",
      "       ..., \n",
      "       [0, 0, 0, ..., 0, 0, 0],\n",
      "       [0, 0, 0, ..., 0, 0, 0],\n",
      "       [0, 0, 0, ..., 0, 0, 0]], dtype=int64), array([[0, 0, 0, ..., 0, 0, 0],\n",
      "       [0, 0, 0, ..., 0, 0, 0],\n",
      "       [0, 0, 0, ..., 0, 0, 0],\n",
      "       ..., \n",
      "       [0, 0, 0, ..., 0, 0, 0],\n",
      "       [0, 0, 0, ..., 0, 0, 0],\n",
      "       [0, 0, 0, ..., 0, 0, 0]], dtype=int64), array([[0, 0, 0, ..., 0, 0, 0],\n",
      "       [0, 0, 0, ..., 0, 0, 0],\n",
      "       [0, 0, 0, ..., 0, 0, 0],\n",
      "       ..., \n",
      "       [0, 0, 0, ..., 0, 0, 0],\n",
      "       [0, 0, 0, ..., 0, 0, 0],\n",
      "       [0, 0, 0, ..., 0, 0, 0]], dtype=int64), array([[0, 0, 0, ..., 0, 0, 0],\n",
      "       [0, 0, 0, ..., 0, 0, 0],\n",
      "       [0, 0, 0, ..., 0, 0, 0],\n",
      "       ..., \n",
      "       [0, 0, 0, ..., 0, 0, 0],\n",
      "       [0, 0, 0, ..., 0, 0, 0],\n",
      "       [0, 0, 0, ..., 0, 0, 0]], dtype=int64)]\n",
      "[0, 0, 1, 0, 0, 1, 1, 0]\n"
     ]
    },
    {
     "name": "stderr",
     "output_type": "stream",
     "text": [
      "/Users/aiswaryasankar/anaconda3/lib/python3.4/site-packages/sklearn/utils/validation.py:395: DeprecationWarning: Passing 1d arrays as data is deprecated in 0.17 and will raise ValueError in 0.19. Reshape your data either using X.reshape(-1, 1) if your data has a single feature or X.reshape(1, -1) if it contains a single sample.\n",
      "  DeprecationWarning)\n"
     ]
    },
    {
     "ename": "ValueError",
     "evalue": "setting an array element with a sequence.",
     "output_type": "error",
     "traceback": [
      "\u001b[0;31m---------------------------------------------------------------------------\u001b[0m",
      "\u001b[0;31mValueError\u001b[0m                                Traceback (most recent call last)",
      "\u001b[0;32m<ipython-input-93-5b9ce686ce64>\u001b[0m in \u001b[0;36m<module>\u001b[0;34m()\u001b[0m\n\u001b[1;32m     23\u001b[0m     \u001b[0my\u001b[0m \u001b[0;34m=\u001b[0m \u001b[0mclasses\u001b[0m\u001b[0;34m[\u001b[0m\u001b[0mi\u001b[0m\u001b[0;34m]\u001b[0m \u001b[0;31m# Get the corresponding set of labels for the 1st class\u001b[0m\u001b[0;34m\u001b[0m\u001b[0m\n\u001b[1;32m     24\u001b[0m     \u001b[0mprint\u001b[0m\u001b[0;34m(\u001b[0m\u001b[0;34m'ICD9_label %d'\u001b[0m \u001b[0;34m%\u001b[0m\u001b[0;34m(\u001b[0m\u001b[0mi\u001b[0m\u001b[0;34m)\u001b[0m\u001b[0;34m)\u001b[0m\u001b[0;34m\u001b[0m\u001b[0m\n\u001b[0;32m---> 25\u001b[0;31m     \u001b[0mrunModels\u001b[0m\u001b[0;34m(\u001b[0m\u001b[0mtrain_data_features\u001b[0m\u001b[0;34m,\u001b[0m \u001b[0my\u001b[0m\u001b[0;34m,\u001b[0m \u001b[0mclassifiers\u001b[0m\u001b[0;34m,\u001b[0m \u001b[0mmodelNames\u001b[0m\u001b[0;34m,\u001b[0m \u001b[0;32mTrue\u001b[0m\u001b[0;34m)\u001b[0m\u001b[0;34m\u001b[0m\u001b[0m\n\u001b[0m",
      "\u001b[0;32m<ipython-input-92-f3c24824e45e>\u001b[0m in \u001b[0;36mrunModels\u001b[0;34m(X, Y, modelList, modelNames, showGraph)\u001b[0m\n\u001b[1;32m     30\u001b[0m         \u001b[0mmodel\u001b[0m \u001b[0;34m=\u001b[0m \u001b[0mmodelList\u001b[0m\u001b[0;34m[\u001b[0m\u001b[0mi\u001b[0m\u001b[0;34m]\u001b[0m\u001b[0;34m\u001b[0m\u001b[0m\n\u001b[1;32m     31\u001b[0m         \u001b[0mmodelName\u001b[0m \u001b[0;34m=\u001b[0m \u001b[0mmodelNames\u001b[0m\u001b[0;34m[\u001b[0m\u001b[0mi\u001b[0m\u001b[0;34m]\u001b[0m\u001b[0;34m\u001b[0m\u001b[0m\n\u001b[0;32m---> 32\u001b[0;31m         \u001b[0mmodel\u001b[0m\u001b[0;34m.\u001b[0m\u001b[0mfit\u001b[0m\u001b[0;34m(\u001b[0m\u001b[0mtrainX\u001b[0m\u001b[0;34m,\u001b[0m \u001b[0mtrainY\u001b[0m\u001b[0;34m)\u001b[0m \u001b[0;31m# Train the model on the training data\u001b[0m\u001b[0;34m\u001b[0m\u001b[0m\n\u001b[0m\u001b[1;32m     33\u001b[0m \u001b[0;34m\u001b[0m\u001b[0m\n\u001b[1;32m     34\u001b[0m         \u001b[0;31m# Plot distribution of predictions vs distribution of actual values\u001b[0m\u001b[0;34m\u001b[0m\u001b[0;34m\u001b[0m\u001b[0m\n",
      "\u001b[0;32m/Users/aiswaryasankar/anaconda3/lib/python3.4/site-packages/sklearn/neighbors/base.py\u001b[0m in \u001b[0;36mfit\u001b[0;34m(self, X, y)\u001b[0m\n\u001b[1;32m    759\u001b[0m         \"\"\"\n\u001b[1;32m    760\u001b[0m         \u001b[0;32mif\u001b[0m \u001b[0;32mnot\u001b[0m \u001b[0misinstance\u001b[0m\u001b[0;34m(\u001b[0m\u001b[0mX\u001b[0m\u001b[0;34m,\u001b[0m \u001b[0;34m(\u001b[0m\u001b[0mKDTree\u001b[0m\u001b[0;34m,\u001b[0m \u001b[0mBallTree\u001b[0m\u001b[0;34m)\u001b[0m\u001b[0;34m)\u001b[0m\u001b[0;34m:\u001b[0m\u001b[0;34m\u001b[0m\u001b[0m\n\u001b[0;32m--> 761\u001b[0;31m             \u001b[0mX\u001b[0m\u001b[0;34m,\u001b[0m \u001b[0my\u001b[0m \u001b[0;34m=\u001b[0m \u001b[0mcheck_X_y\u001b[0m\u001b[0;34m(\u001b[0m\u001b[0mX\u001b[0m\u001b[0;34m,\u001b[0m \u001b[0my\u001b[0m\u001b[0;34m,\u001b[0m \u001b[0;34m\"csr\"\u001b[0m\u001b[0;34m,\u001b[0m \u001b[0mmulti_output\u001b[0m\u001b[0;34m=\u001b[0m\u001b[0;32mTrue\u001b[0m\u001b[0;34m)\u001b[0m\u001b[0;34m\u001b[0m\u001b[0m\n\u001b[0m\u001b[1;32m    762\u001b[0m \u001b[0;34m\u001b[0m\u001b[0m\n\u001b[1;32m    763\u001b[0m         \u001b[0;32mif\u001b[0m \u001b[0my\u001b[0m\u001b[0;34m.\u001b[0m\u001b[0mndim\u001b[0m \u001b[0;34m==\u001b[0m \u001b[0;36m1\u001b[0m \u001b[0;32mor\u001b[0m \u001b[0my\u001b[0m\u001b[0;34m.\u001b[0m\u001b[0mndim\u001b[0m \u001b[0;34m==\u001b[0m \u001b[0;36m2\u001b[0m \u001b[0;32mand\u001b[0m \u001b[0my\u001b[0m\u001b[0;34m.\u001b[0m\u001b[0mshape\u001b[0m\u001b[0;34m[\u001b[0m\u001b[0;36m1\u001b[0m\u001b[0;34m]\u001b[0m \u001b[0;34m==\u001b[0m \u001b[0;36m1\u001b[0m\u001b[0;34m:\u001b[0m\u001b[0;34m\u001b[0m\u001b[0m\n",
      "\u001b[0;32m/Users/aiswaryasankar/anaconda3/lib/python3.4/site-packages/sklearn/utils/validation.py\u001b[0m in \u001b[0;36mcheck_X_y\u001b[0;34m(X, y, accept_sparse, dtype, order, copy, force_all_finite, ensure_2d, allow_nd, multi_output, ensure_min_samples, ensure_min_features, y_numeric, warn_on_dtype, estimator)\u001b[0m\n\u001b[1;32m    519\u001b[0m     X = check_array(X, accept_sparse, dtype, order, copy, force_all_finite,\n\u001b[1;32m    520\u001b[0m                     \u001b[0mensure_2d\u001b[0m\u001b[0;34m,\u001b[0m \u001b[0mallow_nd\u001b[0m\u001b[0;34m,\u001b[0m \u001b[0mensure_min_samples\u001b[0m\u001b[0;34m,\u001b[0m\u001b[0;34m\u001b[0m\u001b[0m\n\u001b[0;32m--> 521\u001b[0;31m                     ensure_min_features, warn_on_dtype, estimator)\n\u001b[0m\u001b[1;32m    522\u001b[0m     \u001b[0;32mif\u001b[0m \u001b[0mmulti_output\u001b[0m\u001b[0;34m:\u001b[0m\u001b[0;34m\u001b[0m\u001b[0m\n\u001b[1;32m    523\u001b[0m         y = check_array(y, 'csr', force_all_finite=True, ensure_2d=False,\n",
      "\u001b[0;32m/Users/aiswaryasankar/anaconda3/lib/python3.4/site-packages/sklearn/utils/validation.py\u001b[0m in \u001b[0;36mcheck_array\u001b[0;34m(array, accept_sparse, dtype, order, copy, force_all_finite, ensure_2d, allow_nd, ensure_min_samples, ensure_min_features, warn_on_dtype, estimator)\u001b[0m\n\u001b[1;32m    400\u001b[0m         \u001b[0;31m# make sure we actually converted to numeric:\u001b[0m\u001b[0;34m\u001b[0m\u001b[0;34m\u001b[0m\u001b[0m\n\u001b[1;32m    401\u001b[0m         \u001b[0;32mif\u001b[0m \u001b[0mdtype_numeric\u001b[0m \u001b[0;32mand\u001b[0m \u001b[0marray\u001b[0m\u001b[0;34m.\u001b[0m\u001b[0mdtype\u001b[0m\u001b[0;34m.\u001b[0m\u001b[0mkind\u001b[0m \u001b[0;34m==\u001b[0m \u001b[0;34m\"O\"\u001b[0m\u001b[0;34m:\u001b[0m\u001b[0;34m\u001b[0m\u001b[0m\n\u001b[0;32m--> 402\u001b[0;31m             \u001b[0marray\u001b[0m \u001b[0;34m=\u001b[0m \u001b[0marray\u001b[0m\u001b[0;34m.\u001b[0m\u001b[0mastype\u001b[0m\u001b[0;34m(\u001b[0m\u001b[0mnp\u001b[0m\u001b[0;34m.\u001b[0m\u001b[0mfloat64\u001b[0m\u001b[0;34m)\u001b[0m\u001b[0;34m\u001b[0m\u001b[0m\n\u001b[0m\u001b[1;32m    403\u001b[0m         \u001b[0;32mif\u001b[0m \u001b[0;32mnot\u001b[0m \u001b[0mallow_nd\u001b[0m \u001b[0;32mand\u001b[0m \u001b[0marray\u001b[0m\u001b[0;34m.\u001b[0m\u001b[0mndim\u001b[0m \u001b[0;34m>=\u001b[0m \u001b[0;36m3\u001b[0m\u001b[0;34m:\u001b[0m\u001b[0;34m\u001b[0m\u001b[0m\n\u001b[1;32m    404\u001b[0m             raise ValueError(\"Found array with dim %d. %s expected <= 2.\"\n",
      "\u001b[0;31mValueError\u001b[0m: setting an array element with a sequence."
     ]
    }
   ],
   "source": [
    "# Call train method where X is the entire train_data_features and Y contains the labels for a single ICD9_code\n",
    "# Repeat this process for all the ICD9_codes\n",
    "\n",
    "from sklearn.linear_model import LogisticRegression\n",
    "from sklearn.neighbors import KNeighborsClassifier\n",
    "from sklearn.svm import SVC\n",
    "from sklearn.gaussian_process.kernels import RBF\n",
    "from sklearn.tree import DecisionTreeClassifier\n",
    "from sklearn.ensemble import RandomForestClassifier\n",
    "\n",
    "modelNames = [\"Nearest Neighbors\", \"Linear SVM\", \"RBF SVM\", \"Decision Tree\", \"Random Forest\"]\n",
    "\n",
    "# Initialize the classifiers\n",
    "classifiers = [\n",
    "    KNeighborsClassifier(3),\n",
    "    SVC(kernel=\"linear\", C=0.025),\n",
    "    SVC(gamma=2, C=1),\n",
    "    DecisionTreeClassifier(max_depth=5),\n",
    "    RandomForestClassifier(max_depth=5, n_estimators=10, max_features=1)]\n",
    "\n",
    "\n",
    "for i in range(len(classes)):\n",
    "    y = classes[i] # Get the corresponding set of labels for the 1st class\n",
    "    print('ICD9_label %d' %(i))\n",
    "    runModels(train_data_features, y, classifiers, modelNames, True)"
   ]
  },
  {
   "cell_type": "code",
   "execution_count": null,
   "metadata": {
    "collapsed": true
   },
   "outputs": [],
   "source": []
  }
 ],
 "metadata": {
  "kernelspec": {
   "display_name": "Python 3",
   "language": "python",
   "name": "python3"
  },
  "language_info": {
   "codemirror_mode": {
    "name": "ipython",
    "version": 3
   },
   "file_extension": ".py",
   "mimetype": "text/x-python",
   "name": "python",
   "nbconvert_exporter": "python",
   "pygments_lexer": "ipython3",
   "version": "3.4.5"
  }
 },
 "nbformat": 4,
 "nbformat_minor": 1
}
