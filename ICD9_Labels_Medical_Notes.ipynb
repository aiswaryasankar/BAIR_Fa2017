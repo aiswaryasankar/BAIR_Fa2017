{
 "cells": [
  {
   "cell_type": "markdown",
   "metadata": {},
   "source": [
    "<h1>Preprocess ICD9 codes</h1>"
   ]
  },
  {
   "cell_type": "code",
   "execution_count": null,
   "metadata": {
    "collapsed": false
   },
   "outputs": [],
   "source": [
    "import numpy as np\n",
    "import pandas as pd\n",
    "import matplotlib.pyplot as plt\n",
    "\n",
    "\n",
    "# Read in the ICD9 code dataset\n",
    "# These are the dictionaries that store info regarding the code and what it represents\n",
    "diagnoses_dict = pd.read_csv('MIMIC_Data/D_ICD_DIAGNOSES.csv')\n",
    "procedures_dict = pd.read_csv('MIMIC_Data/D_ICD_PROCEDURES.csv')\n",
    "notes = pd.read_csv('MIMIC_Data/NOTEEVENTS.csv')\n",
    "patient_codes = pd.read_csv('MIMIC_Data/DIAGNOSES_ICD.csv')\n",
    "\n",
    "print(diagnoses.describe())\n",
    "print(procedures.describe())\n",
    "print(patient_codes.describe())\n"
   ]
  },
  {
   "cell_type": "code",
   "execution_count": null,
   "metadata": {
    "collapsed": false
   },
   "outputs": [],
   "source": [
    "# Print out the columns for each database\n",
    "\n",
    "print('Columns diagnoses_dict')\n",
    "print(diagnoses_dict.columns)\n",
    "\n",
    "print('\\nColumns procedures_dict')\n",
    "print(procedures_dict.columns)\n",
    "\n",
    "print('\\nColumns patient_codes')\n",
    "print(patient_codes.columns)"
   ]
  },
  {
   "cell_type": "code",
   "execution_count": null,
   "metadata": {
    "collapsed": false
   },
   "outputs": [],
   "source": [
    "# Determine which are the top 10 used codes \n",
    "# Create a histogram of the ICD9_Codes used in patient_codes and extract the Short_title from the dict\n",
    "\n",
    "extra = [(code, count) for count, code in \n",
    "          zip(patient_codes['ICD9_CODE'].value_counts(), patient_codes['ICD9_CODE'].value_counts().index.tolist())][:10]\n",
    "ICD9_codes = [code for code in patient_codes['ICD9_CODE'].value_counts().index.tolist()][:10]\n",
    "ICD9_counts = [count for count in patient_codes['ICD9_CODE'].value_counts()][:10]\n",
    "\n",
    "# Given the ICD9_CODE, lookup the code in the dictionary to figure out the name\n",
    "# Get another column value from dataframe if a column is a certain value\n",
    "ICD9_names = [diagnoses_dict.loc[diagnoses_dict['ICD9_CODE'] == val, 'SHORT_TITLE'].item() for val in ICD9_codes]\n",
    "\n",
    "num_patients = 46520 # total number of patients in the dataset\n",
    "print('Top ICD9 codes \\t\\t\\t\\t Percent of Patients\\n')\n",
    "for code, count, name in zip(ICD9_codes, ICD9_counts, ICD9_names):\n",
    "    print('%s: %s\\t\\t %f' %(code, name, count / num_patients))\n"
   ]
  },
  {
   "cell_type": "code",
   "execution_count": null,
   "metadata": {
    "collapsed": true
   },
   "outputs": [],
   "source": [
    "# Remove patients who don't have one of these top labels\n",
    "# This means go through the notes and remove those that are for patients that don't have one of these labels\n",
    "# Get subject id for each note, get patient_code with that id, lookup \n",
    "\n",
    "# Create a new dataframe that only has the rows where the ids are in the valid 10\n"
   ]
  },
  {
   "cell_type": "code",
   "execution_count": null,
   "metadata": {
    "collapsed": true
   },
   "outputs": [],
   "source": [
    "# The ICD9 codes for diagnoses aren't all numeric, some are string representations instead\n",
    "print(procedures['ICD9_CODE'])\n",
    "plt.hist(procedures['ICD9_CODE'])\n",
    "plt.show()\n",
    "\n",
    "\n",
    "# Go through the codes and determine the top 10 used codes\n",
    "\n",
    "\n",
    "# How many codes are assigned on average to each patient?"
   ]
  },
  {
   "cell_type": "markdown",
   "metadata": {},
   "source": [
    "<h1>Explore Medical Note database</h1>"
   ]
  },
  {
   "cell_type": "code",
   "execution_count": null,
   "metadata": {
    "collapsed": false,
    "scrolled": true
   },
   "outputs": [],
   "source": [
    "# Example of one of the medical notes\n",
    "\n",
    "print(notes.loc[2]['TEXT'])"
   ]
  },
  {
   "cell_type": "code",
   "execution_count": null,
   "metadata": {
    "collapsed": false
   },
   "outputs": [],
   "source": [
    "# Determine the ICD9_id that connects to each note\n",
    "# note -> hadm_id -> ICD9_code\n",
    "\n",
    "print(len(notes))\n",
    "# Merging left will keep all the notes and find corresponding patient_codes\n",
    "notes_diagnoses1 = pd.merge(notes, patient_codes, how='left', on='HADM_ID')\n",
    "print(len(notes_diagnoses1))\n",
    "print(notes_diagnoses1.head())\n",
    "\n",
    "# Merging without specifying left or right only merges the ones that match up btwn the databases\n",
    "# notes_diagnoses2 = notes.merge(patient_codes)\n",
    "# print(len(notes_diagnoses2))"
   ]
  },
  {
   "cell_type": "code",
   "execution_count": null,
   "metadata": {
    "collapsed": false
   },
   "outputs": [],
   "source": [
    "#ICD9_names = [diagnoses_dict.loc[diagnoses_dict['ICD9_CODE'] == val, 'SHORT_TITLE'].item() for val in ICD9_codes]\n",
    "\n",
    "valid = [val in ICD9_codes for val in notes_diagnoses1['ICD9_CODE']]\n",
    "#top10joined = notes_diagnoses1.loc[notes_diagnoses1[diagnoses_dict['ICD9_CODE'] in ICD9_codes]\n",
    "print(valid)"
   ]
  },
  {
   "cell_type": "code",
   "execution_count": null,
   "metadata": {
    "collapsed": true
   },
   "outputs": [],
   "source": []
  }
 ],
 "metadata": {
  "kernelspec": {
   "display_name": "Python 3",
   "language": "python",
   "name": "python3"
  },
  "language_info": {
   "codemirror_mode": {
    "name": "ipython",
    "version": 3
   },
   "file_extension": ".py",
   "mimetype": "text/x-python",
   "name": "python",
   "nbconvert_exporter": "python",
   "pygments_lexer": "ipython3",
   "version": "3.4.5"
  }
 },
 "nbformat": 4,
 "nbformat_minor": 1
}
